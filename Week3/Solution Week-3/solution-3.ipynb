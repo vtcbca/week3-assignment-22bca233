{
 "cells": [
  {
   "cell_type": "code",
   "execution_count": 1,
   "id": "6adec162",
   "metadata": {},
   "outputs": [],
   "source": [
    "import sqlite3 as sq"
   ]
  },
  {
   "cell_type": "markdown",
   "id": "94d1cba9",
   "metadata": {},
   "source": [
    "-> making connection with database using connect()"
   ]
  },
  {
   "cell_type": "code",
   "execution_count": 2,
   "id": "052609cd",
   "metadata": {},
   "outputs": [],
   "source": [
    "con = sq.connect('EMS.db')"
   ]
  },
  {
   "cell_type": "markdown",
   "id": "0ddd6ad3",
   "metadata": {},
   "source": [
    "->making cursor on con object"
   ]
  },
  {
   "cell_type": "code",
   "execution_count": 3,
   "id": "ab351f9e",
   "metadata": {},
   "outputs": [],
   "source": [
    "cur = con.cursor()"
   ]
  },
  {
   "cell_type": "markdown",
   "id": "e981d875",
   "metadata": {},
   "source": [
    "-> query-1 create table query and execute it using execute()"
   ]
  },
  {
   "cell_type": "code",
   "execution_count": 4,
   "id": "08d30514",
   "metadata": {},
   "outputs": [],
   "source": [
    "query='''create table if not exists employee \n",
    "        (eid int primary key,\n",
    "         ename text,\n",
    "         dept text,\n",
    "         basic int,\n",
    "         branch text)'''\n",
    "cur.execute(query)\n",
    "con.commit()"
   ]
  },
  {
   "cell_type": "markdown",
   "id": "4ab6ad2f",
   "metadata": {},
   "source": [
    "->Query-2 function to insert 5 record in table"
   ]
  },
  {
   "cell_type": "code",
   "execution_count": 15,
   "id": "e33426e8",
   "metadata": {},
   "outputs": [],
   "source": [
    "def insertemp(n):\n",
    "    l=[]\n",
    "    query=f\"insert into Employee values(?,?,?,?,?)\"\n",
    "       \n",
    "    for i in range(n):\n",
    "        eid=int(input(\"Enter Employee id:\"))\n",
    "        ename=input(\"Enter Employee name \")\n",
    "        dept=input(\"Enter Employee department:\")\n",
    "        basic=int(input(\"Enter Employee basic salary:\"))\n",
    "        branch=input(\"Enter Employee branch:\")\n",
    "        t=(eid,ename,dept,basic,branch)\n",
    "        l.append(t)\n",
    "    cur.executemany(query,l)\n",
    "    con.commit()"
   ]
  },
  {
   "cell_type": "markdown",
   "id": "01c61912",
   "metadata": {},
   "source": [
    "-> Query-3 update record of employee who are from surat increment 10% in basic"
   ]
  },
  {
   "cell_type": "code",
   "execution_count": 22,
   "id": "add66ece",
   "metadata": {},
   "outputs": [],
   "source": [
    "def updatesal():\n",
    "    query=f\"update Employee set basic=basic+basic*0.1 where branch='surat'\"\n",
    "    cur.execute(query)\n",
    "    con.commit()"
   ]
  },
  {
   "cell_type": "markdown",
   "id": "7d67df7b",
   "metadata": {},
   "source": [
    "->Query-4 print all record"
   ]
  },
  {
   "cell_type": "code",
   "execution_count": 24,
   "id": "8642a3b0",
   "metadata": {},
   "outputs": [],
   "source": [
    "def displayrecord():\n",
    "    query=f\"select * from Employee\"\n",
    "    cur.execute(query)\n",
    "    data=cur.fetchall()\n",
    "    for i in data:\n",
    "        print(\"Employee id:{}\\nEmployee name:{}\\nEmployee department:{}\\nEmployee Basic:{}\\nEmployee branch:{}\".format(i[0],i[1],i[2],i[3],i[4])) "
   ]
  },
  {
   "cell_type": "markdown",
   "id": "fbeb8fcd",
   "metadata": {},
   "source": [
    "->Query-5 print record whose department is 'hr' or 'it'"
   ]
  },
  {
   "cell_type": "code",
   "execution_count": 27,
   "id": "fa762843",
   "metadata": {},
   "outputs": [],
   "source": [
    "def deptrecord():\n",
    "    query=f\"select * from Employee where dept in ('hr','it','HR','IT')\"\n",
    "    cur.execute(query)\n",
    "    data=cur.fetchall()\n",
    "    for i in data:\n",
    "        print(\"Employee id:{}\\nEmployee name:{}\\nEmployee department:{}\\nEmployee Basic:{}\\nEmployee branch:{}\".format(i[0],i[1],i[2],i[3],i[4])) "
   ]
  },
  {
   "cell_type": "markdown",
   "id": "4d9d43b6",
   "metadata": {},
   "source": [
    "-> Query-6 record in sorting order of department"
   ]
  },
  {
   "cell_type": "code",
   "execution_count": 28,
   "id": "fea1f6cd",
   "metadata": {},
   "outputs": [],
   "source": [
    "def sortrecorddept():\n",
    "    query=f\"select * from Employee order by dept\"\n",
    "    cur.execute(query)\n",
    "    data=cur.fetchall()\n",
    "    for i in data:\n",
    "        print(\"Employee id:{}\\nEmployee name:{}\\nEmployee department:{}\\nEmployee Basic:{}\\nEmployee branch:{}\".format(i[0],i[1],i[2],i[3],i[4])) "
   ]
  },
  {
   "cell_type": "markdown",
   "id": "cc0bf46e",
   "metadata": {},
   "source": [
    "-> Query-7 records where  basic is >6000"
   ]
  },
  {
   "cell_type": "code",
   "execution_count": 30,
   "id": "9703dc9c",
   "metadata": {},
   "outputs": [],
   "source": [
    "def recordbasicgreaterthan():\n",
    "    query=f\"select * from Employee where basic>6000\"\n",
    "    cur.execute(query)\n",
    "    data=cur.fetchall()\n",
    "    for i in data:\n",
    "        print(\"Employee id:{}\\nEmployee name:{}\\nEmployee department:{}\\nEmployee Basic:{}\\nEmployee branch:{}\".format(i[0],i[1],i[2],i[3],i[4])) "
   ]
  },
  {
   "cell_type": "markdown",
   "id": "8e3ef0b1",
   "metadata": {},
   "source": [
    "-> Query-8 records where employee's name second character is 'r'"
   ]
  },
  {
   "cell_type": "code",
   "execution_count": 10,
   "id": "ef1f8c7d",
   "metadata": {},
   "outputs": [],
   "source": [
    "def sortrecorddept():\n",
    "    query=f\"select * from Employee where ename like '_r%'\"\n",
    "    cur.execute(query)\n",
    "    data=cur.fetchall()\n",
    "    for i in data:\n",
    "        print(\"Employee id:{}\\nEmployee name:{}\\nEmployee department:{}\\nEmployee Basic:{}\\nEmployee branch:{}\".format(i[0],i[1],i[2],i[3],i[4])) "
   ]
  },
  {
   "cell_type": "markdown",
   "id": "087c165d",
   "metadata": {},
   "source": [
    "-> Query-9 grouping record of employee who are from \"account\" and \"inventory\""
   ]
  },
  {
   "cell_type": "code",
   "execution_count": 39,
   "id": "4e2843cb",
   "metadata": {},
   "outputs": [],
   "source": [
    "def groupingrecord():\n",
    "    query=f\"select dept,count(*) as count  from Employee where dept in ('account','inventory')\"\n",
    "    cur.execute(query)\n",
    "    data=cur.fetchall()\n",
    "    for i in data:\n",
    "        print(\"\\nEmployee department:{}\\ncount :{}\".format(i[0],i[1])) "
   ]
  },
  {
   "cell_type": "markdown",
   "id": "2dc90def",
   "metadata": {},
   "source": [
    "-> Query-10 print record based on branch name in descending order."
   ]
  },
  {
   "cell_type": "code",
   "execution_count": 41,
   "id": "1dcc8924",
   "metadata": {},
   "outputs": [],
   "source": [
    "def orderbydesc():\n",
    "    query=f\"select * from Employee order by branch desc\"\n",
    "    cur.execute(query)\n",
    "    data=cur.fetchall()\n",
    "    for i in data:\n",
    "        print(\"Employee id:{}\\nEmployee name:{}\\nEmployee department:{}\\nEmployee Basic:{}\\nEmployee branch:{}\".format(i[0],i[1],i[2],i[3],i[4])) "
   ]
  },
  {
   "cell_type": "markdown",
   "id": "64e97adb",
   "metadata": {},
   "source": [
    "-> call all function"
   ]
  },
  {
   "cell_type": "code",
   "execution_count": 16,
   "id": "2bf464e1",
   "metadata": {},
   "outputs": [
    {
     "name": "stdout",
     "output_type": "stream",
     "text": [
      "Enter Employee id:1\n",
      "Enter Employee name om\n",
      "Enter Employee department:account\n",
      "Enter Employee basic salary:15000\n",
      "Enter Employee branch:sueat\n",
      "Enter Employee id:2\n",
      "Enter Employee name sai\n",
      "Enter Employee department:hr\n",
      "Enter Employee basic salary:20000\n",
      "Enter Employee branch:bardoli\n",
      "Enter Employee id:3\n",
      "Enter Employee name pratham\n",
      "Enter Employee department:it\n",
      "Enter Employee basic salary:25000\n",
      "Enter Employee branch:mandvi\n",
      "Enter Employee id:4\n",
      "Enter Employee name ram\n",
      "Enter Employee department:inventory\n",
      "Enter Employee basic salary:3000\n",
      "Enter Employee branch:surat\n",
      "Enter Employee id:5\n",
      "Enter Employee name raj\n",
      "Enter Employee department:account\n",
      "Enter Employee basic salary:5000\n",
      "Enter Employee branch:bardoli\n"
     ]
    }
   ],
   "source": [
    "insertemp(5)"
   ]
  },
  {
   "cell_type": "code",
   "execution_count": 25,
   "id": "aeaf77f4",
   "metadata": {},
   "outputs": [],
   "source": [
    "updatesal()"
   ]
  },
  {
   "cell_type": "code",
   "execution_count": 26,
   "id": "f55bbcf6",
   "metadata": {},
   "outputs": [
    {
     "name": "stdout",
     "output_type": "stream",
     "text": [
      "Employee id:1\n",
      "Employee name:om\n",
      "Employee department:account\n",
      "Employee Basic:15000\n",
      "Employee branch:sueat\n",
      "Employee id:2\n",
      "Employee name:sai\n",
      "Employee department:hr\n",
      "Employee Basic:20000\n",
      "Employee branch:bardoli\n",
      "Employee id:3\n",
      "Employee name:pratham\n",
      "Employee department:it\n",
      "Employee Basic:25000\n",
      "Employee branch:mandvi\n",
      "Employee id:4\n",
      "Employee name:ram\n",
      "Employee department:inventory\n",
      "Employee Basic:3630\n",
      "Employee branch:surat\n",
      "Employee id:5\n",
      "Employee name:raj\n",
      "Employee department:account\n",
      "Employee Basic:5000\n",
      "Employee branch:bardoli\n"
     ]
    }
   ],
   "source": [
    "displayrecord()"
   ]
  },
  {
   "cell_type": "code",
   "execution_count": 29,
   "id": "fda958eb",
   "metadata": {},
   "outputs": [
    {
     "name": "stdout",
     "output_type": "stream",
     "text": [
      "Employee id:1\n",
      "Employee name:om\n",
      "Employee department:account\n",
      "Employee Basic:15000\n",
      "Employee branch:sueat\n",
      "Employee id:5\n",
      "Employee name:raj\n",
      "Employee department:account\n",
      "Employee Basic:5000\n",
      "Employee branch:bardoli\n",
      "Employee id:2\n",
      "Employee name:sai\n",
      "Employee department:hr\n",
      "Employee Basic:20000\n",
      "Employee branch:bardoli\n",
      "Employee id:4\n",
      "Employee name:ram\n",
      "Employee department:inventory\n",
      "Employee Basic:3630\n",
      "Employee branch:surat\n",
      "Employee id:3\n",
      "Employee name:pratham\n",
      "Employee department:it\n",
      "Employee Basic:25000\n",
      "Employee branch:mandvi\n"
     ]
    }
   ],
   "source": [
    "sortrecorddept()"
   ]
  },
  {
   "cell_type": "code",
   "execution_count": 31,
   "id": "1203f1f0",
   "metadata": {},
   "outputs": [
    {
     "name": "stdout",
     "output_type": "stream",
     "text": [
      "Employee id:1\n",
      "Employee name:om\n",
      "Employee department:account\n",
      "Employee Basic:15000\n",
      "Employee branch:sueat\n",
      "Employee id:2\n",
      "Employee name:sai\n",
      "Employee department:hr\n",
      "Employee Basic:20000\n",
      "Employee branch:bardoli\n",
      "Employee id:3\n",
      "Employee name:pratham\n",
      "Employee department:it\n",
      "Employee Basic:25000\n",
      "Employee branch:mandvi\n"
     ]
    }
   ],
   "source": [
    "recordbasicgreaterthan()"
   ]
  },
  {
   "cell_type": "code",
   "execution_count": 32,
   "id": "38be7263",
   "metadata": {},
   "outputs": [
    {
     "name": "stdout",
     "output_type": "stream",
     "text": [
      "Employee id:1\n",
      "Employee name:om\n",
      "Employee department:account\n",
      "Employee Basic:15000\n",
      "Employee branch:sueat\n",
      "Employee id:5\n",
      "Employee name:raj\n",
      "Employee department:account\n",
      "Employee Basic:5000\n",
      "Employee branch:bardoli\n",
      "Employee id:2\n",
      "Employee name:sai\n",
      "Employee department:hr\n",
      "Employee Basic:20000\n",
      "Employee branch:bardoli\n",
      "Employee id:4\n",
      "Employee name:ram\n",
      "Employee department:inventory\n",
      "Employee Basic:3630\n",
      "Employee branch:surat\n",
      "Employee id:3\n",
      "Employee name:pratham\n",
      "Employee department:it\n",
      "Employee Basic:25000\n",
      "Employee branch:mandvi\n"
     ]
    }
   ],
   "source": [
    "sortrecorddept()"
   ]
  },
  {
   "cell_type": "code",
   "execution_count": 40,
   "id": "7a6c9239",
   "metadata": {},
   "outputs": [
    {
     "name": "stdout",
     "output_type": "stream",
     "text": [
      "\n",
      "Employee department:account\n",
      "count :3\n"
     ]
    }
   ],
   "source": [
    "groupingrecord()"
   ]
  },
  {
   "cell_type": "code",
   "execution_count": 42,
   "id": "f3bcb34c",
   "metadata": {},
   "outputs": [
    {
     "name": "stdout",
     "output_type": "stream",
     "text": [
      "Employee id:4\n",
      "Employee name:ram\n",
      "Employee department:inventory\n",
      "Employee Basic:3630\n",
      "Employee branch:surat\n",
      "Employee id:1\n",
      "Employee name:om\n",
      "Employee department:account\n",
      "Employee Basic:15000\n",
      "Employee branch:sueat\n",
      "Employee id:3\n",
      "Employee name:pratham\n",
      "Employee department:it\n",
      "Employee Basic:25000\n",
      "Employee branch:mandvi\n",
      "Employee id:2\n",
      "Employee name:sai\n",
      "Employee department:hr\n",
      "Employee Basic:20000\n",
      "Employee branch:bardoli\n",
      "Employee id:5\n",
      "Employee name:raj\n",
      "Employee department:account\n",
      "Employee Basic:5000\n",
      "Employee branch:bardoli\n"
     ]
    }
   ],
   "source": [
    "orderbydesc()"
   ]
  },
  {
   "cell_type": "code",
   "execution_count": 43,
   "id": "b1d6c361",
   "metadata": {},
   "outputs": [],
   "source": [
    "con.commit()"
   ]
  },
  {
   "cell_type": "markdown",
   "id": "0186c4a7",
   "metadata": {},
   "source": [
    "-> close the connection with database"
   ]
  },
  {
   "cell_type": "code",
   "execution_count": 45,
   "id": "85877f5a",
   "metadata": {},
   "outputs": [],
   "source": [
    "con.close()"
   ]
  }
 ],
 "metadata": {
  "kernelspec": {
   "display_name": "Python 3 (ipykernel)",
   "language": "python",
   "name": "python3"
  },
  "language_info": {
   "codemirror_mode": {
    "name": "ipython",
    "version": 3
   },
   "file_extension": ".py",
   "mimetype": "text/x-python",
   "name": "python",
   "nbconvert_exporter": "python",
   "pygments_lexer": "ipython3",
   "version": "3.11.1"
  }
 },
 "nbformat": 4,
 "nbformat_minor": 5
}
